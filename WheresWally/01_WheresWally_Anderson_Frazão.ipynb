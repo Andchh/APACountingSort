{
  "nbformat": 4,
  "nbformat_minor": 0,
  "metadata": {
    "colab": {
      "name": "01 - WheresWally - Anderson Frazão",
      "provenance": [],
      "include_colab_link": true
    },
    "kernelspec": {
      "display_name": "Python 3",
      "name": "python3"
    }
  },
  "cells": [
    {
      "cell_type": "markdown",
      "metadata": {
        "id": "view-in-github",
        "colab_type": "text"
      },
      "source": [
        "<a href=\"https://colab.research.google.com/github/Andchh/APACountingSort/blob/master/WheresWally/01_WheresWally_Anderson_Fraz%C3%A3o.ipynb\" target=\"_parent\"><img src=\"https://colab.research.google.com/assets/colab-badge.svg\" alt=\"Open In Colab\"/></a>"
      ]
    },
    {
      "cell_type": "markdown",
      "metadata": {
        "id": "RQQA0D3Ce2Y2"
      },
      "source": [
        "Neste primeiro teste decidi usar OpenCV pela praticidade que o mesmo trás em problemas que é necessário encontrar objetos ou pessoas na foto.\n",
        "\n",
        "Foi utilizado uma técnica de Feature Matching conhecida como ORB (Oriented and Rotated BRIEF), que é capaz de encontrar pontos chave em imagens e comparar com a imagem de referência."
      ]
    },
    {
      "cell_type": "markdown",
      "metadata": {
        "id": "i_N_q9gWE53R"
      },
      "source": [
        "#Detectando com ORB"
      ]
    },
    {
      "cell_type": "code",
      "metadata": {
        "id": "TI2nThDqMnO-"
      },
      "source": [
        "import numpy as np\n",
        "import cv2\n",
        "import glob\n",
        "import os\n",
        "import pandas as pd\n",
        "import csv\n",
        "\n",
        "imgname = \"/content/01-WheresWally/ReferenceData/wally.jpg\"          # imagem a ser procurada\n"
      ],
      "execution_count": 6,
      "outputs": []
    },
    {
      "cell_type": "code",
      "metadata": {
        "id": "KmJ3wRYFc6b_",
        "colab": {
          "base_uri": "https://localhost:8080/"
        },
        "outputId": "5a51b39c-34aa-4780-ec6b-d29e215ae971"
      },
      "source": [
        "#baixando e extraindo o dataset fornecido para o teste\n",
        "!gdown --id 1s1wts4jmqOIEHYU7iqK7nSkgG3eoZscY\n",
        "!unzip -q /content/01-WheresWally.zip"
      ],
      "execution_count": 2,
      "outputs": [
        {
          "output_type": "stream",
          "text": [
            "Downloading...\n",
            "From: https://drive.google.com/uc?id=1s1wts4jmqOIEHYU7iqK7nSkgG3eoZscY\n",
            "To: /content/01-WheresWally.zip\n",
            "49.5MB [00:00, 60.6MB/s]\n"
          ],
          "name": "stdout"
        }
      ]
    },
    {
      "cell_type": "code",
      "metadata": {
        "id": "VnuP_GFNMp8o"
      },
      "source": [
        "#iterando pela pasta de testes e salvando \n",
        "for imagePath in glob.glob('/content/01-WheresWally/TestSet' + \"/*.jpg\"):\n",
        "  #print(os.path.basename(imagePath))\n",
        "  imgname2 = imagePath\n",
        "  MIN_MATCH_COUNT = 4\n",
        "\n",
        "  ## criando ORB e BF (using HAMMING)\n",
        "  orb = cv2.ORB_create()\n",
        "  img1 = cv2.imread(imgname)\n",
        "  img2 = cv2.imread(imgname2)\n",
        "  #passando pra cinza\n",
        "  gray2 = cv2.cvtColor(img2, cv2.COLOR_BGR2GRAY)\n",
        "  gray1 = cv2.cvtColor(img1, cv2.COLOR_BGR2GRAY)\n",
        "\n",
        "  \n",
        "  #Encontrando os keypoints e descriptors com ORB\n",
        "  kpts1, descs1 = orb.detectAndCompute(gray1,None)\n",
        "  kpts2, descs2 = orb.detectAndCompute(gray2,None)\n",
        "\n",
        "  #comparando descriptors e organizando eles por ordem de distância\n",
        "  bf = cv2.BFMatcher(cv2.NORM_HAMMING, crossCheck=True)\n",
        "  matches = bf.match(descs1, descs2)\n",
        "  dmatches = sorted(matches, key = lambda x:x.distance)\n",
        "\n",
        "  #extraindo keypoints\n",
        "  src_pts  = np.float32([kpts1[m.queryIdx].pt for m in dmatches]).reshape(-1,1,2)\n",
        "  dst_pts  = np.float32([kpts2[m.trainIdx].pt for m in dmatches]).reshape(-1,1,2)\n",
        "\n",
        "  #encontrando matriz de homografia e fazendo transformação de perspectiva\n",
        "  M, mask = cv2.findHomography(src_pts, dst_pts, cv2.RANSAC,5.0)\n",
        "  h,w = img1.shape[:2]\n",
        "  pts = np.float32([ [0,0],[0,h-1],[w-1,h-1],[w-1,0] ]).reshape(-1,1,2)\n",
        "  dst = cv2.perspectiveTransform(pts,M)\n",
        "\n",
        "  #pegando as coordenadas de wally na imagem\n",
        "  coord = dst.reshape(4,2)\n",
        "  coord = np.int32(coord)\n",
        "\n",
        "  bottom_right = coord[0]\n",
        "  top_right = coord[1]\n",
        "  top_left = coord[2]\n",
        "  bottom_left = coord[3]\n",
        "\n",
        "  #pegando os centroides\n",
        "  xcenter = ((bottom_left[0] + bottom_right[0])/2)\n",
        "  ycenter = (bottom_left[1] + top_left[1]) /2\n",
        "  #print(xcenter, ycenter)\n",
        "  csv_list = [os.path.basename(imagePath), xcenter, ycenter]\n",
        "  #escrevendo o csv\n",
        "  with open('output.csv', 'a', newline = '') as myfile:\n",
        "    wr = csv.writer(myfile, quoting = csv.QUOTE_ALL)\n",
        "    wr.writerow(csv_list)\n",
        "\n",
        "\n"
      ],
      "execution_count": 7,
      "outputs": []
    }
  ]
}